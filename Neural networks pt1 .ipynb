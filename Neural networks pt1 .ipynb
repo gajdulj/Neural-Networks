{
 "cells": [
  {
   "cell_type": "markdown",
   "metadata": {},
   "source": [
    "# Pt 1. Intro Neuron Code"
   ]
  },
  {
   "cell_type": "code",
   "execution_count": 12,
   "metadata": {},
   "outputs": [
    {
     "name": "stdout",
     "output_type": "stream",
     "text": [
      "python: 3.7.6 (default, Jan  8 2020, 13:42:34) \n",
      "[Clang 4.0.1 (tags/RELEASE_401/final)]\n",
      "numpy: 1.18.1\n",
      "matplotlib: 3.1.3\n"
     ]
    }
   ],
   "source": [
    "import numpy as np\n",
    "import sys\n",
    "import matplotlib\n",
    "\n",
    "print(\"python:\", sys.version)\n",
    "print(\"numpy:\",np.__version__)\n",
    "print(\"matplotlib:\", matplotlib.__version__)"
   ]
  },
  {
   "cell_type": "code",
   "execution_count": 13,
   "metadata": {},
   "outputs": [
    {
     "data": {
      "text/plain": [
       "2.0"
      ]
     },
     "execution_count": 13,
     "metadata": {},
     "output_type": "execute_result"
    }
   ],
   "source": [
    "x=[1,2,3]\n",
    "np.mean(x)"
   ]
  },
  {
   "cell_type": "code",
   "execution_count": 18,
   "metadata": {},
   "outputs": [
    {
     "name": "stdout",
     "output_type": "stream",
     "text": [
      "42.48\n"
     ]
    }
   ],
   "source": [
    "inputs = [1.2, 4.6, 5.8]\n",
    "weights = [3.1, 2.1, 4.5]\n",
    "bias = 3\n",
    "output = inputs[0]* weights [0] + inputs[1]* weights [1] +inputs[2]* weights [2] + bias\n",
    "print (output)"
   ]
  },
  {
   "cell_type": "markdown",
   "metadata": {},
   "source": [
    "# Pt 2. Coding a Layer\n"
   ]
  },
  {
   "cell_type": "code",
   "execution_count": 2,
   "metadata": {},
   "outputs": [
    {
     "name": "stdout",
     "output_type": "stream",
     "text": [
      "[43.58, 26.83, 91.16]\n"
     ]
    }
   ],
   "source": [
    "inputs = [1.2, 4.6, 5.8, 2.5]\n",
    "\n",
    "weights1 = [3.1, 2.1, 4.5, 1.4]\n",
    "weights2 = [0.6, -2.1, 4.4, 1.7]\n",
    "weights3 = [3.5, 7.1, 8.5, -1.4]\n",
    "\n",
    "bias1 = 0.6\n",
    "bias2 = 6 \n",
    "bias3 = 8.5 \n",
    "\n",
    "\n",
    "output = [inputs[0]* weights1[0] + \n",
    "          inputs[1]* weights1[1] +\n",
    "          inputs[2]* weights1[2] + \n",
    "          inputs[3]* weights1[3] +  bias1,\n",
    "              \n",
    "          inputs[0]* weights2[0] + \n",
    "          inputs[1]* weights2[1] +\n",
    "          inputs[2]* weights2[2] + \n",
    "          inputs[3]* weights2[3] + bias2,\n",
    "          \n",
    "          inputs[0]* weights3[0] + \n",
    "          inputs[1]* weights3[1] +\n",
    "          inputs[2]* weights3[2] + \n",
    "          inputs[3]* weights3[3] + bias3]\n",
    "\n",
    "print (output)"
   ]
  },
  {
   "cell_type": "markdown",
   "metadata": {},
   "source": [
    "The way you would change an output is to change the  weights and the  biases. \n",
    "\n",
    "The inputs cannot be  changed because they come from the actual input data OR they are part of outputs  which feed into an input."
   ]
  },
  {
   "cell_type": "markdown",
   "metadata": {},
   "source": [
    "Each input value has 3 unique sets of weights as these are the networks which feed into the input.\n"
   ]
  },
  {
   "cell_type": "markdown",
   "metadata": {},
   "source": [
    "# The Dot Product"
   ]
  },
  {
   "cell_type": "code",
   "execution_count": 23,
   "metadata": {},
   "outputs": [
    {
     "name": "stdout",
     "output_type": "stream",
     "text": [
      "[43.58, 26.83, 91.16]\n"
     ]
    }
   ],
   "source": [
    "inputs = [1.2, 4.6, 5.8, 2.5]\n",
    "\n",
    "weights = [[3.1, 2.1, 4.5, 1.4],\n",
    "           [0.6, -2.1, 4.4, 1.7],\n",
    "           [3.5, 7.1, 8.5, -1.4]]\n",
    "\n",
    "biases = [0.6, 6, 8.5]\n",
    "\n",
    "layer_outputs = []\n",
    "for neuron_weight,neuron_bias in zip(weights,biases):\n",
    "    neuron_output = 0 \n",
    "    for n_input,weight in zip (inputs,neuron_weight):\n",
    "        neuron_output += n_input*weight \n",
    "    neuron_output += neuron_bias\n",
    "    layer_outputs.append(neuron_output)\n",
    "\n",
    "print(layer_outputs)"
   ]
  },
  {
   "cell_type": "code",
   "execution_count": 13,
   "metadata": {},
   "outputs": [
    {
     "name": "stdout",
     "output_type": "stream",
     "text": [
      "[3.1, 2.1, 4.5, 1.4] 0.6\n",
      "[0.6, -2.1, 4.4, 1.7] 6\n",
      "[3.5, 7.1, 8.5, -1.0] 8.5\n"
     ]
    }
   ],
   "source": [
    "for neuron_weight,neuron_bias in zip(weights,biases):\n",
    "    print(neuron_weight,neuron_bias)"
   ]
  },
  {
   "cell_type": "code",
   "execution_count": 6,
   "metadata": {},
   "outputs": [],
   "source": [
    "a =[1,2,3]\n",
    "b = [3,4,5]\n",
    "c = zip(a,b)"
   ]
  },
  {
   "cell_type": "code",
   "execution_count": 7,
   "metadata": {},
   "outputs": [
    {
     "name": "stdout",
     "output_type": "stream",
     "text": [
      "(1, 3)\n",
      "(2, 4)\n",
      "(3, 5)\n"
     ]
    }
   ],
   "source": [
    "for i in c:\n",
    "    print(i)"
   ]
  },
  {
   "cell_type": "markdown",
   "metadata": {},
   "source": [
    "zip function is combining two lists, in this case the weights (a) to the bias (b)"
   ]
  },
  {
   "cell_type": "markdown",
   "metadata": {},
   "source": [
    "weights and biases are values that will impact neuron output. "
   ]
  },
  {
   "cell_type": "code",
   "execution_count": 8,
   "metadata": {},
   "outputs": [
    {
     "name": "stdout",
     "output_type": "stream",
     "text": [
      "14.4\n",
      "4.9\n"
     ]
    }
   ],
   "source": [
    "some_value =  4\n",
    "weight = 3.6\n",
    "bias = 0.9\n",
    "\n",
    "print (some_value*weight)\n",
    "print (some_value+bias)"
   ]
  },
  {
   "cell_type": "markdown",
   "metadata": {},
   "source": [
    "weight is chamging the magnitude and bias is ofsetting the weight which meaans that bias is the intercept in the equation y= mx+ c (line) "
   ]
  },
  {
   "cell_type": "markdown",
   "metadata": {},
   "source": [
    "shaape is how many elements are in each dimension of an array and how many dimensions there are. i.e. in 1 dimension there is one list (array in numpy and a vector in maths).\n",
    "\n",
    "In 2 dimensions, there is a list of lists, and in numpy this is called a matrix ( a rectangular array). Arrarys have to be homologous which means at each dimension they need to have the same dimension.\n",
    "\n",
    "\n",
    "A tensor is an object that can be represented as an array, so in deep learning tensors will be used as an array.\n",
    "What are we trying to do?\n",
    "\n",
    "inputs x weights + bias (vector)\n",
    "\n",
    "--> you do this via  the  dot product \n",
    "\n",
    "the dot product of two vectors results in a scalar value (one value i.e. 20) "
   ]
  },
  {
   "cell_type": "code",
   "execution_count": 20,
   "metadata": {},
   "outputs": [
    {
     "name": "stdout",
     "output_type": "stream",
     "text": [
      "44.98\n"
     ]
    }
   ],
   "source": [
    "\"\"\"For single neuron\"\"\"\n",
    "\n",
    "inputs = [1.2, 4.6, 5.8, 2.5]\n",
    "weights = [3.1, 2.1, 4.5, 1.4]\n",
    "bias = 2\n",
    "\n",
    "output = np.dot(weights,inputs)+bias\n",
    "print(output)\n",
    "           "
   ]
  },
  {
   "cell_type": "code",
   "execution_count": 27,
   "metadata": {},
   "outputs": [
    {
     "name": "stdout",
     "output_type": "stream",
     "text": [
      "[43.58 26.83 91.16]\n"
     ]
    }
   ],
   "source": [
    "\"\"\"For a layer of neurons\"\"\"\n",
    "inputs = [1.2, 4.6, 5.8, 2.5]\n",
    "\n",
    "weights = [[3.1, 2.1, 4.5, 1.4],\n",
    "           [0.6, -2.1, 4.4, 1.7],\n",
    "           [3.5, 7.1, 8.5, -1.4]]\n",
    "\n",
    "biases = [0.6, 6, 8.5]\n",
    "\n",
    "output = np.dot(weights,inputs)+biases\n",
    "print(output)"
   ]
  },
  {
   "cell_type": "markdown",
   "metadata": {},
   "source": [
    "weight isnt a vector its a matrix containing vectors. inputs is a vector which does not change the dot product but weights are not."
   ]
  },
  {
   "cell_type": "markdown",
   "metadata": {},
   "source": [
    "# Batches, Layer, and Objects "
   ]
  },
  {
   "cell_type": "markdown",
   "metadata": {},
   "source": [
    "Using batches for parallel computing with GPU is better than CPU.\n",
    "Batches help with generalisation.\n",
    "\n",
    "You can set the network with a larger sample size--> that's why you use a batch so you have a generalisation of the data and not just one set of inputs. This improves the line of best fit and is easier for  neuron to fit the sample size when fed in batches.\n",
    "\n",
    "But if you input all the bacthes at once then the neural network will try to pick up EVERY standard deviation... so you need to introduce the batches gradually i.e. 32 (most common batch size), 64, 128.\n",
    "\n",
    "\n"
   ]
  },
  {
   "cell_type": "code",
   "execution_count": 1,
   "metadata": {},
   "outputs": [],
   "source": [
    "inputs = [[1.2, 4.6, 5.8, 2.5],\n",
    "          [4.6, 7, 8.1, -1.2], \n",
    "          [6, 7, -2, 8]]\n",
    "\n",
    "weights = [[3.1, 2.1, 4.5, 1.4],\n",
    "           [0.6, -2.1, 4.4, 1.7],\n",
    "           [3.5, 7.1, 8.5, -1.4]]\n",
    "\n",
    "biases = [0.6, 6, 8.5]"
   ]
  },
  {
   "cell_type": "markdown",
   "metadata": {},
   "source": [
    "The dot product of matrix is multiplying each element in the row vector of first matrix with corresponding element in the vector column of the second matrix and then adding them up to get one single dot product of every column vector.\n",
    "\n",
    "\n",
    "The number of columns and rows in both weights and inputs needs to be the same. \n",
    "\n",
    "If shape is unqual, you need to transpose the inputs to from horizontal to vertical (or vice versa).\n",
    "\n"
   ]
  },
  {
   "cell_type": "code",
   "execution_count": 5,
   "metadata": {},
   "outputs": [
    {
     "name": "stdout",
     "output_type": "stream",
     "text": [
      "[[ 43.58  26.83  91.16]\n",
      " [ 64.33  27.66 144.83]\n",
      " [ 36.1   -0.3   51.  ]]\n"
     ]
    }
   ],
   "source": [
    "inputs = [[1.2, 4.6, 5.8, 2.5],\n",
    "          [4.6, 7, 8.1, -1.2], \n",
    "          [6, 7, -2, 8]]\n",
    "\n",
    "weights = [[3.1, 2.1, 4.5, 1.4],\n",
    "           [0.6, -2.1, 4.4, 1.7],\n",
    "           [3.5, 7.1, 8.5, -1.4]]\n",
    "\n",
    "biases = [0.6, 6, 8.5]\n",
    "\n",
    "output = np.dot(inputs, np.array(weights).T) + biases\n",
    "print(output)"
   ]
  },
  {
   "cell_type": "code",
   "execution_count": 9,
   "metadata": {},
   "outputs": [
    {
     "name": "stdout",
     "output_type": "stream",
     "text": [
      "[[ 592.086  477.987  760.863]\n",
      " [ 884.841  716.735 1148.666]\n",
      " [ 331.46   223.74   307.32 ]]\n"
     ]
    }
   ],
   "source": [
    "\n",
    "weights2 = [[3.4, 2.6, 4.1],\n",
    "           [-0.5, 2.7, 4.6],\n",
    "           [-3.5, 5.1, 8.5,]]\n",
    "\n",
    "biases2 = [0.4, 8, 1.7]\n",
    "\n",
    "\n",
    "layer1_outputs = np.dot(inputs, np.array(weights).T) + biases\n",
    "\n",
    "layer2_outputs = np.dot(layer1_outputs, np.array(weights2).T) + biases2\n",
    "\n",
    "print(layer2_outputs)\n"
   ]
  },
  {
   "cell_type": "code",
   "execution_count": 47,
   "metadata": {},
   "outputs": [
    {
     "name": "stdout",
     "output_type": "stream",
     "text": [
      "[[ 0.40474341  0.97932858  0.60544351  0.78495354  0.92370925]\n",
      " [-0.2858076   0.90548183  0.26027401 -0.08394324  0.22166078]\n",
      " [-0.993393    1.58062255  0.2271316  -0.73353047 -0.06695631]]\n",
      "[[-0.0755456   0.21407593]\n",
      " [-0.07228084 -0.03774669]\n",
      " [-0.12794962 -0.23552952]]\n",
      "[[-0.14543657  0.00457585 -0.01871839]\n",
      " [ 0.15327792  0.14693588  0.01549474]\n",
      " [ 0.03781625 -0.08877857 -0.19807965]\n",
      " [-0.03479121  0.0156349   0.12302907]]\n"
     ]
    },
    {
     "data": {
      "text/plain": [
       "''"
      ]
     },
     "execution_count": 47,
     "metadata": {},
     "output_type": "execute_result"
    }
   ],
   "source": [
    "# X is the standard input for machine learning. \n",
    "\n",
    "np.random.seed(0)\n",
    "\n",
    "X = [[3.4, 2.6, 4.1],\n",
    "    [-0.5, 2.7, 4.6],\n",
    "    [-3.5, 5.1, 8.5,]]\n",
    "\n",
    "class Layer_Dense:\n",
    "    def __init__(self,n_inputs,n_neurons):\n",
    "        self.weights = 0.10*np.random.randn(n_inputs, n_neurons)\n",
    "        self.biases= np.zeros((1, n_neurons))\n",
    "    def forward(self, inputs):\n",
    "        self.output = np.dot(inputs, self.weights) + self.biases\n",
    "        \n",
    "layer1 = Layer_Dense(3,5)\n",
    "layer2 = Layer_Dense (5,2)\n",
    "\n",
    "layer1.forward(X)\n",
    "print (layer1.output)\n",
    "\n",
    "layer2.forward(layer1.output)\n",
    "print(layer2.output)\n",
    "\n",
    "    \n",
    "print(0.10*np.random.randn(4,3))\n",
    "    \n",
    "\"\"\" we usually initiliase weights between -1 and +1 and biases as 0. \n",
    "If inputs x weights is not big enough to fire then you have dead network issue so you have to sort something \n",
    "with the biases as a non 0 number\"\"\"\n",
    "\n",
    "\"\"\"\"\"\"\n",
    "\n",
    "\n",
    "    \n",
    "    "
   ]
  },
  {
   "cell_type": "code",
   "execution_count": 36,
   "metadata": {},
   "outputs": [
    {
     "data": {
      "text/plain": [
       "array([[ 0.44386323,  0.33367433,  1.49407907, -0.20515826,  0.3130677 ]])"
      ]
     },
     "execution_count": 36,
     "metadata": {},
     "output_type": "execute_result"
    }
   ],
   "source": [
    "np.random.randn(1,5)"
   ]
  },
  {
   "cell_type": "code",
   "execution_count": 37,
   "metadata": {},
   "outputs": [
    {
     "data": {
      "text/plain": [
       "array([[0., 0., 0., 0., 0.]])"
      ]
     },
     "execution_count": 37,
     "metadata": {},
     "output_type": "execute_result"
    }
   ],
   "source": [
    "np.zeros((1,5))"
   ]
  }
 ],
 "metadata": {
  "kernelspec": {
   "display_name": "Python 3",
   "language": "python",
   "name": "python3"
  },
  "language_info": {
   "codemirror_mode": {
    "name": "ipython",
    "version": 3
   },
   "file_extension": ".py",
   "mimetype": "text/x-python",
   "name": "python",
   "nbconvert_exporter": "python",
   "pygments_lexer": "ipython3",
   "version": "3.7.6"
  }
 },
 "nbformat": 4,
 "nbformat_minor": 4
}
